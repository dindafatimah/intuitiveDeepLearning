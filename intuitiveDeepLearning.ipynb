{
  "nbformat": 4,
  "nbformat_minor": 0,
  "metadata": {
    "colab": {
      "provenance": []
    },
    "kernelspec": {
      "name": "python3",
      "display_name": "Python 3"
    },
    "language_info": {
      "name": "python"
    }
  },
  "cells": [
    {
      "cell_type": "code",
      "execution_count": null,
      "metadata": {
        "colab": {
          "base_uri": "https://localhost:8080/"
        },
        "id": "oUWeNnRjjBvw",
        "outputId": "a0e203ba-30b7-4439-c227-9924f849c8e4"
      },
      "outputs": [
        {
          "output_type": "stream",
          "name": "stdout",
          "text": [
            "Downloading data from https://www.cs.toronto.edu/~kriz/cifar-10-python.tar.gz\n",
            "170498071/170498071 [==============================] - 2s 0us/step\n"
          ]
        }
      ],
      "source": [
        "from keras.datasets import cifar10\n",
        "(x_train, y_train), (x_test, y_test) = cifar10.load_data()"
      ]
    },
    {
      "cell_type": "code",
      "source": [
        "print('x_train shape:', x_train.shape)"
      ],
      "metadata": {
        "colab": {
          "base_uri": "https://localhost:8080/"
        },
        "id": "kmlaKxCEjWqV",
        "outputId": "3233703f-14e9-4b72-c04c-737f616c862d"
      },
      "execution_count": null,
      "outputs": [
        {
          "output_type": "stream",
          "name": "stdout",
          "text": [
            "x_train shape: (50000, 32, 32, 3)\n"
          ]
        }
      ]
    },
    {
      "cell_type": "code",
      "source": [
        "print('y_train shape:', y_train.shape)"
      ],
      "metadata": {
        "colab": {
          "base_uri": "https://localhost:8080/"
        },
        "id": "pg1J-HASju9h",
        "outputId": "7bb24969-7747-412b-90c2-00f0c8dbcba6"
      },
      "execution_count": null,
      "outputs": [
        {
          "output_type": "stream",
          "name": "stdout",
          "text": [
            "y_train shape: (50000, 1)\n"
          ]
        }
      ]
    },
    {
      "cell_type": "code",
      "source": [
        "print(x_train[0])"
      ],
      "metadata": {
        "colab": {
          "base_uri": "https://localhost:8080/"
        },
        "id": "veobDhuzj3Tf",
        "outputId": "f25129f7-20f9-4a84-8376-3d47faeb0322"
      },
      "execution_count": null,
      "outputs": [
        {
          "output_type": "stream",
          "name": "stdout",
          "text": [
            "[[[ 59  62  63]\n",
            "  [ 43  46  45]\n",
            "  [ 50  48  43]\n",
            "  ...\n",
            "  [158 132 108]\n",
            "  [152 125 102]\n",
            "  [148 124 103]]\n",
            "\n",
            " [[ 16  20  20]\n",
            "  [  0   0   0]\n",
            "  [ 18   8   0]\n",
            "  ...\n",
            "  [123  88  55]\n",
            "  [119  83  50]\n",
            "  [122  87  57]]\n",
            "\n",
            " [[ 25  24  21]\n",
            "  [ 16   7   0]\n",
            "  [ 49  27   8]\n",
            "  ...\n",
            "  [118  84  50]\n",
            "  [120  84  50]\n",
            "  [109  73  42]]\n",
            "\n",
            " ...\n",
            "\n",
            " [[208 170  96]\n",
            "  [201 153  34]\n",
            "  [198 161  26]\n",
            "  ...\n",
            "  [160 133  70]\n",
            "  [ 56  31   7]\n",
            "  [ 53  34  20]]\n",
            "\n",
            " [[180 139  96]\n",
            "  [173 123  42]\n",
            "  [186 144  30]\n",
            "  ...\n",
            "  [184 148  94]\n",
            "  [ 97  62  34]\n",
            "  [ 83  53  34]]\n",
            "\n",
            " [[177 144 116]\n",
            "  [168 129  94]\n",
            "  [179 142  87]\n",
            "  ...\n",
            "  [216 184 140]\n",
            "  [151 118  84]\n",
            "  [123  92  72]]]\n"
          ]
        }
      ]
    },
    {
      "cell_type": "code",
      "source": [
        "import matplotlib.pyplot as plt\n",
        "%matplotlib inline"
      ],
      "metadata": {
        "id": "wErRHapmj6y-"
      },
      "execution_count": null,
      "outputs": []
    },
    {
      "cell_type": "code",
      "source": [
        "img = plt.imshow(x_train[0])"
      ],
      "metadata": {
        "colab": {
          "base_uri": "https://localhost:8080/",
          "height": 430
        },
        "id": "VdD8vYArj_HT",
        "outputId": "10789084-44ab-47a3-e9cc-16d6cd34e7d7"
      },
      "execution_count": null,
      "outputs": [
        {
          "output_type": "display_data",
          "data": {
            "text/plain": [
              "<Figure size 640x480 with 1 Axes>"
            ],
            "image/png": "[encoded data removed]"
          },
          "metadata": {}
        }
      ]
    },
    {
      "cell_type": "code",
      "source": [
        "print('The label is:', y_train[0])"
      ],
      "metadata": {
        "colab": {
          "base_uri": "https://localhost:8080/"
        },
        "id": "kyRfaG-ukBmj",
        "outputId": "6f430ee1-b83e-4b43-f908-4aa1e6962306"
      },
      "execution_count": null,
      "outputs": [
        {
          "output_type": "stream",
          "name": "stdout",
          "text": [
            "The label is: [6]\n"
          ]
        }
      ]
    },
    {
      "cell_type": "code",
      "source": [
        "img = plt.imshow(x_train[1])"
      ],
      "metadata": {
        "colab": {
          "base_uri": "https://localhost:8080/",
          "height": 430
        },
        "id": "s1CmJlrIkGf1",
        "outputId": "88da95f6-a225-4f9d-8270-cf9266bbd337"
      },
      "execution_count": null,
      "outputs": [
        {
          "output_type": "display_data",
          "data": {
            "text/plain": [
              "<Figure size 640x480 with 1 Axes>"
            ],
            "image/png": "[encoded data removed]"
          },
          "metadata": {}
        }
      ]
    },
    {
      "cell_type": "code",
      "source": [
        "print('The label is:', y_train[1])"
      ],
      "metadata": {
        "colab": {
          "base_uri": "https://localhost:8080/"
        },
        "id": "aX4OCNcnkMA8",
        "outputId": "75873df5-3b01-463b-f47a-3f40ca8ad30f"
      },
      "execution_count": null,
      "outputs": [
        {
          "output_type": "stream",
          "name": "stdout",
          "text": [
            "The label is: [9]\n"
          ]
        }
      ]
    },
    {
      "cell_type": "code",
      "source": [
        "import keras\n",
        "y_train_one_hot = keras.utils.to_categorical(y_train, 10)\n",
        "y_test_one_hot = keras.utils.to_categorical(y_test, 10)"
      ],
      "metadata": {
        "id": "ts5q69ugkTb1"
      },
      "execution_count": null,
      "outputs": []
    },
    {
      "cell_type": "code",
      "source": [
        "print('The one hot label is:', y_train_one_hot[1])"
      ],
      "metadata": {
        "colab": {
          "base_uri": "https://localhost:8080/"
        },
        "id": "moGojBAZkfXx",
        "outputId": "c8a88ca5-4ce5-49e9-f34c-83de7f16b038"
      },
      "execution_count": null,
      "outputs": [
        {
          "output_type": "stream",
          "name": "stdout",
          "text": [
            "The one hot label is: [0. 0. 0. 0. 0. 0. 0. 0. 0. 1.]\n"
          ]
        }
      ]
    },
    {
      "cell_type": "code",
      "source": [
        "x_train = x_train.astype('float32')\n",
        "x_test = x_test.astype('float32')\n",
        "x_train = x_train / 255\n",
        "x_test = x_test / 255"
      ],
      "metadata": {
        "id": "WocNcV5rkqhv"
      },
      "execution_count": null,
      "outputs": []
    },
    {
      "cell_type": "code",
      "source": [
        "x_train[0]"
      ],
      "metadata": {
        "colab": {
          "base_uri": "https://localhost:8080/"
        },
        "id": "04LSyK-ekyYr",
        "outputId": "eb696a4b-f624-4842-8f7a-f5f733b4741d"
      },
      "execution_count": null,
      "outputs": [
        {
          "output_type": "execute_result",
          "data": {
            "text/plain": [
              "array([[[0.23137255, 0.24313726, 0.24705882],\n",
              "        [0.16862746, 0.18039216, 0.1764706 ],\n",
              "        [0.19607843, 0.1882353 , 0.16862746],\n",
              "        ...,\n",
              "        [0.61960787, 0.5176471 , 0.42352942],\n",
              "        [0.59607846, 0.49019608, 0.4       ],\n",
              "        [0.5803922 , 0.4862745 , 0.40392157]],\n",
              "\n",
              "       [[0.0627451 , 0.07843138, 0.07843138],\n",
              "        [0.        , 0.        , 0.        ],\n",
              "        [0.07058824, 0.03137255, 0.        ],\n",
              "        ...,\n",
              "        [0.48235294, 0.34509805, 0.21568628],\n",
              "        [0.46666667, 0.3254902 , 0.19607843],\n",
              "        [0.47843137, 0.34117648, 0.22352941]],\n",
              "\n",
              "       [[0.09803922, 0.09411765, 0.08235294],\n",
              "        [0.0627451 , 0.02745098, 0.        ],\n",
              "        [0.19215687, 0.10588235, 0.03137255],\n",
              "        ...,\n",
              "        [0.4627451 , 0.32941177, 0.19607843],\n",
              "        [0.47058824, 0.32941177, 0.19607843],\n",
              "        [0.42745098, 0.28627452, 0.16470589]],\n",
              "\n",
              "       ...,\n",
              "\n",
              "       [[0.8156863 , 0.6666667 , 0.3764706 ],\n",
              "        [0.7882353 , 0.6       , 0.13333334],\n",
              "        [0.7764706 , 0.6313726 , 0.10196079],\n",
              "        ...,\n",
              "        [0.627451  , 0.52156866, 0.27450982],\n",
              "        [0.21960784, 0.12156863, 0.02745098],\n",
              "        [0.20784314, 0.13333334, 0.07843138]],\n",
              "\n",
              "       [[0.7058824 , 0.54509807, 0.3764706 ],\n",
              "        [0.6784314 , 0.48235294, 0.16470589],\n",
              "        [0.7294118 , 0.5647059 , 0.11764706],\n",
              "        ...,\n",
              "        [0.72156864, 0.5803922 , 0.36862746],\n",
              "        [0.38039216, 0.24313726, 0.13333334],\n",
              "        [0.3254902 , 0.20784314, 0.13333334]],\n",
              "\n",
              "       [[0.69411767, 0.5647059 , 0.45490196],\n",
              "        [0.65882355, 0.5058824 , 0.36862746],\n",
              "        [0.7019608 , 0.5568628 , 0.34117648],\n",
              "        ...,\n",
              "        [0.84705883, 0.72156864, 0.54901963],\n",
              "        [0.5921569 , 0.4627451 , 0.32941177],\n",
              "        [0.48235294, 0.36078432, 0.28235295]]], dtype=float32)"
            ]
          },
          "metadata": {},
          "execution_count": 13
        }
      ]
    },
    {
      "cell_type": "code",
      "source": [
        "from keras.models import Sequential\n",
        "from keras.layers import Dense, Dropout, Flatten, Conv2D, MaxPooling2D"
      ],
      "metadata": {
        "id": "LRFClTOjk2ao"
      },
      "execution_count": null,
      "outputs": []
    },
    {
      "cell_type": "code",
      "source": [
        "model = Sequential()"
      ],
      "metadata": {
        "id": "r9QNs2lok9E_"
      },
      "execution_count": null,
      "outputs": []
    },
    {
      "cell_type": "code",
      "source": [
        "model.add(Conv2D(32, (3, 3), activation='relu', padding='same',\n",
        "input_shape=(32,32,3)))"
      ],
      "metadata": {
        "id": "YnipB_8UlGcR"
      },
      "execution_count": null,
      "outputs": []
    },
    {
      "cell_type": "code",
      "source": [
        "model.add(MaxPooling2D(pool_size=(2, 2)))"
      ],
      "metadata": {
        "id": "D7Felq0NlPgd"
      },
      "execution_count": null,
      "outputs": []
    },
    {
      "cell_type": "code",
      "source": [
        "model.add(Dropout(0.25))"
      ],
      "metadata": {
        "id": "BNTJ5IyKlRdp"
      },
      "execution_count": null,
      "outputs": []
    },
    {
      "cell_type": "code",
      "source": [
        "model.add(Conv2D(64, (3, 3), activation='relu', padding='same'))\n",
        "model.add(Conv2D(64, (3, 3), activation='relu', padding='same'))\n",
        "model.add(MaxPooling2D(pool_size=(2, 2)))\n",
        "model.add(Dropout(0.25))"
      ],
      "metadata": {
        "id": "yvuT_jQolVJq"
      },
      "execution_count": null,
      "outputs": []
    },
    {
      "cell_type": "code",
      "source": [
        "model.add(Flatten())"
      ],
      "metadata": {
        "id": "prQEqqgglhix"
      },
      "execution_count": null,
      "outputs": []
    },
    {
      "cell_type": "code",
      "source": [
        "model.add(Dense(512, activation='relu'))"
      ],
      "metadata": {
        "id": "6OWb0PJNlk2j"
      },
      "execution_count": null,
      "outputs": []
    },
    {
      "cell_type": "code",
      "source": [
        "model.add(Dropout(0.5))"
      ],
      "metadata": {
        "id": "mI77xnaPlpiY"
      },
      "execution_count": null,
      "outputs": []
    },
    {
      "cell_type": "code",
      "source": [
        "model.add(Dense(10, activation='softmax'))"
      ],
      "metadata": {
        "id": "zmJKWZaFlrpD"
      },
      "execution_count": null,
      "outputs": []
    },
    {
      "cell_type": "code",
      "source": [
        "model.summary()"
      ],
      "metadata": {
        "colab": {
          "base_uri": "https://localhost:8080/"
        },
        "id": "rNtj-fQml0Zg",
        "outputId": "fe6a1f16-6706-4345-d4f7-69dd8ce1046c"
      },
      "execution_count": null,
      "outputs": [
        {
          "output_type": "stream",
          "name": "stdout",
          "text": [
            "Model: \"sequential\"\n",
            "_________________________________________________________________\n",
            " Layer (type)                Output Shape              Param #   \n",
            "=================================================================\n",
            " conv2d (Conv2D)             (None, 32, 32, 32)        896       \n",
            "                                                                 \n",
            " max_pooling2d (MaxPooling2  (None, 16, 16, 32)        0         \n",
            " D)                                                              \n",
            "                                                                 \n",
            " dropout (Dropout)           (None, 16, 16, 32)        0         \n",
            "                                                                 \n",
            " conv2d_1 (Conv2D)           (None, 16, 16, 64)        18496     \n",
            "                                                                 \n",
            " conv2d_2 (Conv2D)           (None, 16, 16, 64)        36928     \n",
            "                                                                 \n",
            " max_pooling2d_1 (MaxPoolin  (None, 8, 8, 64)          0         \n",
            " g2D)                                                            \n",
            "                                                                 \n",
            " dropout_1 (Dropout)         (None, 8, 8, 64)          0         \n",
            "                                                                 \n",
            " flatten (Flatten)           (None, 4096)              0         \n",
            "                                                                 \n",
            " dense (Dense)               (None, 512)               2097664   \n",
            "                                                                 \n",
            " dropout_2 (Dropout)         (None, 512)               0         \n",
            "                                                                 \n",
            " dense_1 (Dense)             (None, 10)                5130      \n",
            "                                                                 \n",
            "=================================================================\n",
            "Total params: 2159114 (8.24 MB)\n",
            "Trainable params: 2159114 (8.24 MB)\n",
            "Non-trainable params: 0 (0.00 Byte)\n",
            "_________________________________________________________________\n"
          ]
        }
      ]
    },
    {
      "cell_type": "code",
      "source": [
        "model.compile(loss='categorical_crossentropy',\n",
        "optimizer='adam',\n",
        "metrics=['accuracy'])"
      ],
      "metadata": {
        "id": "u4ljiq3Fl4rG"
      },
      "execution_count": null,
      "outputs": []
    },
    {
      "cell_type": "code",
      "source": [
        "hist = model.fit(x_train, y_train_one_hot,\n",
        "batch_size=32, epochs=20,\n",
        "validation_split=0.2)"
      ],
      "metadata": {
        "colab": {
          "base_uri": "https://localhost:8080/"
        },
        "id": "kzktMKyLmBD4",
        "outputId": "0a4f66eb-a9d1-4ba8-add6-a87790bd9b28"
      },
      "execution_count": null,
      "outputs": [
        {
          "output_type": "stream",
          "name": "stdout",
          "text": [
            "Epoch 1/20\n",
            "1250/1250 [==============================] - 184s 146ms/step - loss: 1.5744 - accuracy: 0.4238 - val_loss: 1.2478 - val_accuracy: 0.5545\n",
            "Epoch 2/20\n",
            "1250/1250 [==============================] - 173s 139ms/step - loss: 1.2022 - accuracy: 0.5726 - val_loss: 1.0545 - val_accuracy: 0.6199\n",
            "Epoch 3/20\n",
            "1250/1250 [==============================] - 179s 143ms/step - loss: 1.0495 - accuracy: 0.6281 - val_loss: 0.9473 - val_accuracy: 0.6667\n",
            "Epoch 4/20\n",
            "1250/1250 [==============================] - 189s 151ms/step - loss: 0.9557 - accuracy: 0.6645 - val_loss: 0.8801 - val_accuracy: 0.6902\n",
            "Epoch 5/20\n",
            "1250/1250 [==============================] - 197s 158ms/step - loss: 0.8925 - accuracy: 0.6854 - val_loss: 0.8351 - val_accuracy: 0.7109\n",
            "Epoch 6/20\n",
            "1250/1250 [==============================] - 174s 139ms/step - loss: 0.8314 - accuracy: 0.7035 - val_loss: 0.8654 - val_accuracy: 0.7005\n",
            "Epoch 7/20\n",
            "1250/1250 [==============================] - 172s 138ms/step - loss: 0.7786 - accuracy: 0.7246 - val_loss: 0.8019 - val_accuracy: 0.7202\n",
            "Epoch 8/20\n",
            "1250/1250 [==============================] - 171s 137ms/step - loss: 0.7390 - accuracy: 0.7375 - val_loss: 0.8091 - val_accuracy: 0.7254\n",
            "Epoch 9/20\n",
            "1250/1250 [==============================] - 184s 147ms/step - loss: 0.7021 - accuracy: 0.7512 - val_loss: 0.7753 - val_accuracy: 0.7345\n",
            "Epoch 10/20\n",
            "1250/1250 [==============================] - 171s 137ms/step - loss: 0.6591 - accuracy: 0.7678 - val_loss: 0.7772 - val_accuracy: 0.7409\n",
            "Epoch 11/20\n",
            "1250/1250 [==============================] - 170s 136ms/step - loss: 0.6358 - accuracy: 0.7754 - val_loss: 0.7826 - val_accuracy: 0.7407\n",
            "Epoch 12/20\n",
            "1250/1250 [==============================] - 170s 136ms/step - loss: 0.5998 - accuracy: 0.7874 - val_loss: 0.7841 - val_accuracy: 0.7403\n",
            "Epoch 13/20\n",
            "1250/1250 [==============================] - 171s 137ms/step - loss: 0.5704 - accuracy: 0.7992 - val_loss: 0.7759 - val_accuracy: 0.7450\n",
            "Epoch 14/20\n",
            "1250/1250 [==============================] - 168s 134ms/step - loss: 0.5517 - accuracy: 0.8067 - val_loss: 0.8215 - val_accuracy: 0.7278\n",
            "Epoch 15/20\n",
            "1250/1250 [==============================] - 167s 134ms/step - loss: 0.5376 - accuracy: 0.8097 - val_loss: 0.7989 - val_accuracy: 0.7363\n",
            "Epoch 16/20\n",
            "1250/1250 [==============================] - 170s 136ms/step - loss: 0.5105 - accuracy: 0.8192 - val_loss: 0.7963 - val_accuracy: 0.7449\n",
            "Epoch 17/20\n",
            "1250/1250 [==============================] - 172s 137ms/step - loss: 0.5073 - accuracy: 0.8203 - val_loss: 0.7817 - val_accuracy: 0.7481\n",
            "Epoch 18/20\n",
            "1250/1250 [==============================] - 170s 136ms/step - loss: 0.4920 - accuracy: 0.8288 - val_loss: 0.7632 - val_accuracy: 0.7543\n",
            "Epoch 19/20\n",
            "1250/1250 [==============================] - 175s 140ms/step - loss: 0.4653 - accuracy: 0.8343 - val_loss: 0.7906 - val_accuracy: 0.7464\n",
            "Epoch 20/20\n",
            "1250/1250 [==============================] - 172s 137ms/step - loss: 0.4600 - accuracy: 0.8377 - val_loss: 0.7935 - val_accuracy: 0.7508\n"
          ]
        }
      ]
    },
    {
      "cell_type": "code",
      "source": [
        "plt.plot(hist.history['accuracy'])\n",
        "plt.plot(hist.history['val_accuracy'])\n",
        "plt.title('Model accuracy')\n",
        "plt.ylabel('Accuracy')\n",
        "plt.xlabel('Epoch')\n",
        "plt.legend(['Train', 'Val'], loc='lower right')\n",
        "plt.show()"
      ],
      "metadata": {
        "id": "_b-zrHMemh7G",
        "colab": {
          "base_uri": "https://localhost:8080/",
          "height": 472
        },
        "outputId": "19dc52b7-2821-45b0-b365-308c410372f2"
      },
      "execution_count": null,
      "outputs": [
        {
          "output_type": "display_data",
          "data": {
            "text/plain": [
              "<Figure size 640x480 with 1 Axes>"
            ],
            "image/png": "[encoded data removed]"
          },
          "metadata": {}
        }
      ]
    },
    {
      "cell_type": "code",
      "source": [
        "plt.plot(hist.history['loss'])\n",
        "plt.plot(hist.history['val_loss'])\n",
        "plt.title('Model loss')\n",
        "plt.ylabel('Loss')\n",
        "plt.xlabel('Epoch')\n",
        "plt.legend(['Train', 'Val'], loc='upper right')\n",
        "plt.show()"
      ],
      "metadata": {
        "id": "WU8npbnPmeng",
        "colab": {
          "base_uri": "https://localhost:8080/",
          "height": 472
        },
        "outputId": "fedcaa51-3380-45dc-8058-ded8eeeb72f8"
      },
      "execution_count": null,
      "outputs": [
        {
          "output_type": "display_data",
          "data": {
            "text/plain": [
              "<Figure size 640x480 with 1 Axes>"
            ],
            "image/png": "[encoded data removed]"
          },
          "metadata": {}
        }
      ]
    },
    {
      "cell_type": "code",
      "source": [
        "model.evaluate(x_test, y_test_one_hot)[1]"
      ],
      "metadata": {
        "id": "NRMCBfVDm7QE",
        "colab": {
          "base_uri": "https://localhost:8080/"
        },
        "outputId": "596ec4dd-b258-4842-dcda-28981854a027"
      },
      "execution_count": null,
      "outputs": [
        {
          "output_type": "stream",
          "name": "stdout",
          "text": [
            "313/313 [==============================] - 12s 37ms/step - loss: 0.7970 - accuracy: 0.7464\n"
          ]
        },
        {
          "output_type": "execute_result",
          "data": {
            "text/plain": [
              "0.746399998664856"
            ]
          },
          "metadata": {},
          "execution_count": 31
        }
      ]
    },
    {
      "cell_type": "code",
      "source": [
        "model.save('my_cifar10_model.h5')"
      ],
      "metadata": {
        "id": "bwO2CTbmnAw8",
        "colab": {
          "base_uri": "https://localhost:8080/"
        },
        "outputId": "2f3f146f-ba15-4a14-c8a5-bff7cfb4c949"
      },
      "execution_count": null,
      "outputs": [
        {
          "output_type": "stream",
          "name": "stderr",
          "text": [
            "/usr/local/lib/python3.10/dist-packages/keras/src/engine/training.py:3079: UserWarning: You are saving your model as an HDF5 file via `model.save()`. This file format is considered legacy. We recommend using instead the native Keras format, e.g. `model.save('my_model.keras')`.\n",
            "  saving_api.save_model(\n"
          ]
        }
      ]
    },
    {
      "cell_type": "code",
      "source": [
        "from google.colab import files\n",
        "import cv2\n",
        "import matplotlib.pyplot as plt\n",
        "\n",
        "uploads = files.upload()"
      ],
      "metadata": {
        "colab": {
          "base_uri": "https://localhost:8080/",
          "height": 108
        },
        "id": "lygsbvir1QM8",
        "outputId": "69efb34d-bf18-430b-aca3-619855f06368"
      },
      "execution_count": null,
      "outputs": [
        {
          "output_type": "display_data",
          "data": {
            "text/plain": [
              "<IPython.core.display.HTML object>"
            ],
            "text/html": [
              "\n",
              "     <input type=\"file\" id=\"files-309b2e15-1c4d-49e3-a73c-feb404e4b5d7\" name=\"files[]\" multiple disabled\n",
              "        style=\"border:none\" />\n",
              "     <output id=\"result-309b2e15-1c4d-49e3-a73c-feb404e4b5d7\">\n",
              "      Upload widget is only available when the cell has been executed in the\n",
              "      current browser session. Please rerun this cell to enable.\n",
              "      </output>\n",
              "      <script>// Copyright 2017 Google LLC\n",
              "//\n",
              "// Licensed under the Apache License, Version 2.0 (the \"License\");\n",
              "// you may not use this file except in compliance with the License.\n",
              "// You may obtain a copy of the License at\n",
              "//\n",
              "//      http://www.apache.org/licenses/LICENSE-2.0\n",
              "//\n",
              "// Unless required by applicable law or agreed to in writing, software\n",
              "// distributed under the License is distributed on an \"AS IS\" BASIS,\n",
              "// WITHOUT WARRANTIES OR CONDITIONS OF ANY KIND, either express or implied.\n",
              "// See the License for the specific language governing permissions and\n",
              "// limitations under the License.\n",
              "\n",
              "/**\n",
              " * @fileoverview Helpers for google.colab Python module.\n",
              " */\n",
              "(function(scope) {\n",
              "function span(text, styleAttributes = {}) {\n",
              "  const element = document.createElement('span');\n",
              "  element.textContent = text;\n",
              "  for (const key of Object.keys(styleAttributes)) {\n",
              "    element.style[key] = styleAttributes[key];\n",
              "  }\n",
              "  return element;\n",
              "}\n",
              "\n",
              "// Max number of bytes which will be uploaded at a time.\n",
              "const MAX_PAYLOAD_SIZE = 100 * 1024;\n",
              "\n",
              "function _uploadFiles(inputId, outputId) {\n",
              "  const steps = uploadFilesStep(inputId, outputId);\n",
              "  const outputElement = document.getElementById(outputId);\n",
              "  // Cache steps on the outputElement to make it available for the next call\n",
              "  // to uploadFilesContinue from Python.\n",
              "  outputElement.steps = steps;\n",
              "\n",
              "  return _uploadFilesContinue(outputId);\n",
              "}\n",
              "\n",
              "// This is roughly an async generator (not supported in the browser yet),\n",
              "// where there are multiple asynchronous steps and the Python side is going\n",
              "// to poll for completion of each step.\n",
              "// This uses a Promise to block the python side on completion of each step,\n",
              "// then passes the result of the previous step as the input to the next step.\n",
              "function _uploadFilesContinue(outputId) {\n",
              "  const outputElement = document.getElementById(outputId);\n",
              "  const steps = outputElement.steps;\n",
              "\n",
              "  const next = steps.next(outputElement.lastPromiseValue);\n",
              "  return Promise.resolve(next.value.promise).then((value) => {\n",
              "    // Cache the last promise value to make it available to the next\n",
              "    // step of the generator.\n",
              "    outputElement.lastPromiseValue = value;\n",
              "    return next.value.response;\n",
              "  });\n",
              "}\n",
              "\n",
              "/**\n",
              " * Generator function which is called between each async step of the upload\n",
              " * process.\n",
              " * @param {string} inputId Element ID of the input file picker element.\n",
              " * @param {string} outputId Element ID of the output display.\n",
              " * @return {!Iterable<!Object>} Iterable of next steps.\n",
              " */\n",
              "function* uploadFilesStep(inputId, outputId) {\n",
              "  const inputElement = document.getElementById(inputId);\n",
              "  inputElement.disabled = false;\n",
              "\n",
              "  const outputElement = document.getElementById(outputId);\n",
              "  outputElement.innerHTML = '';\n",
              "\n",
              "  const pickedPromise = new Promise((resolve) => {\n",
              "    inputElement.addEventListener('change', (e) => {\n",
              "      resolve(e.target.files);\n",
              "    });\n",
              "  });\n",
              "\n",
              "  const cancel = document.createElement('button');\n",
              "  inputElement.parentElement.appendChild(cancel);\n",
              "  cancel.textContent = 'Cancel upload';\n",
              "  const cancelPromise = new Promise((resolve) => {\n",
              "    cancel.onclick = () => {\n",
              "      resolve(null);\n",
              "    };\n",
              "  });\n",
              "\n",
              "  // Wait for the user to pick the files.\n",
              "  const files = yield {\n",
              "    promise: Promise.race([pickedPromise, cancelPromise]),\n",
              "    response: {\n",
              "      action: 'starting',\n",
              "    }\n",
              "  };\n",
              "\n",
              "  cancel.remove();\n",
              "\n",
              "  // Disable the input element since further picks are not allowed.\n",
              "  inputElement.disabled = true;\n",
              "\n",
              "  if (!files) {\n",
              "    return {\n",
              "      response: {\n",
              "        action: 'complete',\n",
              "      }\n",
              "    };\n",
              "  }\n",
              "\n",
              "  for (const file of files) {\n",
              "    const li = document.createElement('li');\n",
              "    li.append(span(file.name, {fontWeight: 'bold'}));\n",
              "    li.append(span(\n",
              "        `(${file.type || 'n/a'}) - ${file.size} bytes, ` +\n",
              "        `last modified: ${\n",
              "            file.lastModifiedDate ? file.lastModifiedDate.toLocaleDateString() :\n",
              "                                    'n/a'} - `));\n",
              "    const percent = span('0% done');\n",
              "    li.appendChild(percent);\n",
              "\n",
              "    outputElement.appendChild(li);\n",
              "\n",
              "    const fileDataPromise = new Promise((resolve) => {\n",
              "      const reader = new FileReader();\n",
              "      reader.onload = (e) => {\n",
              "        resolve(e.target.result);\n",
              "      };\n",
              "      reader.readAsArrayBuffer(file);\n",
              "    });\n",
              "    // Wait for the data to be ready.\n",
              "    let fileData = yield {\n",
              "      promise: fileDataPromise,\n",
              "      response: {\n",
              "        action: 'continue',\n",
              "      }\n",
              "    };\n",
              "\n",
              "    // Use a chunked sending to avoid message size limits. See b/62115660.\n",
              "    let position = 0;\n",
              "    do {\n",
              "      const length = Math.min(fileData.byteLength - position, MAX_PAYLOAD_SIZE);\n",
              "      const chunk = new Uint8Array(fileData, position, length);\n",
              "      position += length;\n",
              "\n",
              "      const base64 = btoa(String.fromCharCode.apply(null, chunk));\n",
              "      yield {\n",
              "        response: {\n",
              "          action: 'append',\n",
              "          file: file.name,\n",
              "          data: base64,\n",
              "        },\n",
              "      };\n",
              "\n",
              "      let percentDone = fileData.byteLength === 0 ?\n",
              "          100 :\n",
              "          Math.round((position / fileData.byteLength) * 100);\n",
              "      percent.textContent = `${percentDone}% done`;\n",
              "\n",
              "    } while (position < fileData.byteLength);\n",
              "  }\n",
              "\n",
              "  // All done.\n",
              "  yield {\n",
              "    response: {\n",
              "      action: 'complete',\n",
              "    }\n",
              "  };\n",
              "}\n",
              "\n",
              "scope.google = scope.google || {};\n",
              "scope.google.colab = scope.google.colab || {};\n",
              "scope.google.colab._files = {\n",
              "  _uploadFiles,\n",
              "  _uploadFilesContinue,\n",
              "};\n",
              "})(self);\n",
              "</script> "
            ]
          },
          "metadata": {}
        },
        {
          "output_type": "stream",
          "name": "stdout",
          "text": [
            "Saving cat.jpg to cat.jpg\n",
            "Saving cat2.jpg to cat2.jpg\n"
          ]
        }
      ]
    },
    {
      "cell_type": "code",
      "source": [
        "my_image = plt.imread(\"cat.jpg\")"
      ],
      "metadata": {
        "id": "q1Jp_0XLnDLQ"
      },
      "execution_count": null,
      "outputs": []
    },
    {
      "cell_type": "code",
      "source": [
        "from skimage.transform import resize\n",
        "my_image_resized = resize(my_image, (32,32,3))"
      ],
      "metadata": {
        "id": "VFtzrD2YnFLv"
      },
      "execution_count": null,
      "outputs": []
    },
    {
      "cell_type": "code",
      "source": [
        "img = plt.imshow(my_image_resized)"
      ],
      "metadata": {
        "id": "9jaTzUtjnH0q",
        "colab": {
          "base_uri": "https://localhost:8080/",
          "height": 430
        },
        "outputId": "51bdb06f-64c4-4a24-f142-b6efe20943d6"
      },
      "execution_count": null,
      "outputs": [
        {
          "output_type": "display_data",
          "data": {
            "text/plain": [
              "<Figure size 640x480 with 1 Axes>"
            ],
            "image/png": "[encoded data removed]"
          },
          "metadata": {}
        }
      ]
    },
    {
      "cell_type": "code",
      "source": [
        "import numpy as np\n",
        "probabilities = model.predict(np.array( [my_image_resized,] ))"
      ],
      "metadata": {
        "id": "Eu3xVaWBnM7t",
        "colab": {
          "base_uri": "https://localhost:8080/"
        },
        "outputId": "a740747e-5e35-4f06-a431-886efc17c518"
      },
      "execution_count": null,
      "outputs": [
        {
          "output_type": "stream",
          "name": "stdout",
          "text": [
            "1/1 [==============================] - 0s 23ms/step\n"
          ]
        }
      ]
    },
    {
      "cell_type": "code",
      "source": [
        "probabilities"
      ],
      "metadata": {
        "id": "o6uq8LFTnNe0",
        "colab": {
          "base_uri": "https://localhost:8080/"
        },
        "outputId": "7518ffd5-c4c7-4a21-eca2-b5e860d8306c"
      },
      "execution_count": null,
      "outputs": [
        {
          "output_type": "execute_result",
          "data": {
            "text/plain": [
              "array([[8.2429675e-03, 2.9827530e-05, 5.1417448e-02, 1.5757133e-01,\n",
              "        4.1341862e-01, 2.1541297e-01, 5.5794101e-02, 9.7103342e-02,\n",
              "        7.9841609e-04, 2.1099021e-04]], dtype=float32)"
            ]
          },
          "metadata": {},
          "execution_count": 40
        }
      ]
    },
    {
      "cell_type": "code",
      "source": [
        "number_to_class = ['airplane', 'automobile', 'bird', 'cat', 'deer', 'dog', 'frog', 'horse', 'ship', 'truck']\n",
        "index = np.argsort(probabilities[0,:])\n",
        "print(\"Most likely class:\", number_to_class[index[9]], \"-- Probability:\", probabilities[0,index[9]])\n",
        "print(\"Second most likely class:\", number_to_class[index[8]], \"-- Probability:\", probabilities[0,index[8]])\n",
        "print(\"Third most likely class:\", number_to_class[index[7]], \"-- Probability:\", probabilities[0,index[7]])\n",
        "print(\"Fourth most likely class:\", number_to_class[index[6]], \"-- Probability:\", probabilities[0,index[6]])\n",
        "print(\"Fifth most likely class:\", number_to_class[index[5]], \"-- Probability:\", probabilities[0,index[5]])"
      ],
      "metadata": {
        "id": "nP51CeWknPIl",
        "colab": {
          "base_uri": "https://localhost:8080/"
        },
        "outputId": "fda7ce62-3c50-4a98-b0ff-b31c9cd21c49"
      },
      "execution_count": null,
      "outputs": [
        {
          "output_type": "stream",
          "name": "stdout",
          "text": [
            "Most likely class: deer -- Probability: 0.41341862\n",
            "Second most likely class: dog -- Probability: 0.21541297\n",
            "Third most likely class: cat -- Probability: 0.15757133\n",
            "Fourth most likely class: horse -- Probability: 0.09710334\n",
            "Fifth most likely class: frog -- Probability: 0.0557941\n"
          ]
        }
      ]
    },
    {
      "cell_type": "code",
      "source": [
        "my_image2 = plt.imread(\"cat2.jpg\")"
      ],
      "metadata": {
        "id": "6hmDPXdWoPNi"
      },
      "execution_count": null,
      "outputs": []
    },
    {
      "cell_type": "code",
      "source": [
        "from skimage.transform import resize\n",
        "my_image2_resized = resize(my_image2, (32,32,3))"
      ],
      "metadata": {
        "id": "zKfMDhe81qxu"
      },
      "execution_count": null,
      "outputs": []
    },
    {
      "cell_type": "code",
      "source": [
        "img = plt.imshow(my_image2_resized)"
      ],
      "metadata": {
        "colab": {
          "base_uri": "https://localhost:8080/",
          "height": 430
        },
        "id": "uDJClB-R10hD",
        "outputId": "2c1dd4a5-281c-423a-d16d-0230ac16ac30"
      },
      "execution_count": null,
      "outputs": [
        {
          "output_type": "display_data",
          "data": {
            "text/plain": [
              "<Figure size 640x480 with 1 Axes>"
            ],
            "image/png": "[encoded data removed]"
          },
          "metadata": {}
        }
      ]
    },
    {
      "cell_type": "code",
      "source": [
        "import numpy as np\n",
        "probabilities2 = model.predict(np.array( [my_image2_resized,] ))"
      ],
      "metadata": {
        "colab": {
          "base_uri": "https://localhost:8080/"
        },
        "id": "gFFDiMq114W4",
        "outputId": "e02ca588-6d65-46b3-d9c8-a4e04010fe88"
      },
      "execution_count": null,
      "outputs": [
        {
          "output_type": "stream",
          "name": "stdout",
          "text": [
            "1/1 [==============================] - 0s 41ms/step\n"
          ]
        }
      ]
    },
    {
      "cell_type": "code",
      "source": [
        "probabilities2"
      ],
      "metadata": {
        "colab": {
          "base_uri": "https://localhost:8080/"
        },
        "id": "mtPHkwu116Km",
        "outputId": "25ad37cb-8101-432c-abac-dc7150bc751f"
      },
      "execution_count": null,
      "outputs": [
        {
          "output_type": "execute_result",
          "data": {
            "text/plain": [
              "array([[1.8433064e-02, 2.2102332e-04, 4.6414156e-03, 9.5463777e-01,\n",
              "        3.3671816e-03, 5.0395783e-03, 2.3144740e-03, 5.4690859e-04,\n",
              "        1.1085345e-03, 9.6901469e-03]], dtype=float32)"
            ]
          },
          "metadata": {},
          "execution_count": 56
        }
      ]
    },
    {
      "cell_type": "code",
      "source": [
        "number_to_class = ['airplane', 'automobile', 'bird', 'cat', 'deer', 'dog', 'frog', 'horse', 'ship', 'truck']\n",
        "index = np.argsort(probabilities2[0,:])\n",
        "print(\"Most likely class:\", number_to_class[index[9]], \"-- Probability:\", probabilities2[0,index[9]])\n",
        "print(\"Second most likely class:\", number_to_class[index[8]], \"-- Probability:\", probabilities2[0,index[8]])\n",
        "print(\"Third most likely class:\", number_to_class[index[7]], \"-- Probability:\", probabilities2[0,index[7]])\n",
        "print(\"Fourth most likely class:\", number_to_class[index[6]], \"-- Probability:\", probabilities2[0,index[6]])\n",
        "print(\"Fifth most likely class:\", number_to_class[index[5]], \"-- Probability:\", probabilities2[0,index[5]])"
      ],
      "metadata": {
        "colab": {
          "base_uri": "https://localhost:8080/"
        },
        "id": "2eZEtx0217nB",
        "outputId": "8372341c-9f76-4021-b48d-418616c31f97"
      },
      "execution_count": null,
      "outputs": [
        {
          "output_type": "stream",
          "name": "stdout",
          "text": [
            "Most likely class: cat -- Probability: 0.95463777\n",
            "Second most likely class: airplane -- Probability: 0.018433064\n",
            "Third most likely class: truck -- Probability: 0.009690147\n",
            "Fourth most likely class: dog -- Probability: 0.0050395783\n",
            "Fifth most likely class: bird -- Probability: 0.0046414156\n"
          ]
        }
      ]
    }
  ]
}